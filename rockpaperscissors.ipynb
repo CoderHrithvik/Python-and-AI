{
  "nbformat": 4,
  "nbformat_minor": 0,
  "metadata": {
    "colab": {
      "provenance": [],
      "authorship_tag": "ABX9TyMY8j3eABwiEaf2YzrwWq6+",
      "include_colab_link": true
    },
    "kernelspec": {
      "name": "python3",
      "display_name": "Python 3"
    },
    "language_info": {
      "name": "python"
    }
  },
  "cells": [
    {
      "cell_type": "markdown",
      "metadata": {
        "id": "view-in-github",
        "colab_type": "text"
      },
      "source": [
        "<a href=\"https://colab.research.google.com/github/CoderHrithvik/Python-and-AI/blob/main/rockpaperscissors.ipynb\" target=\"_parent\"><img src=\"https://colab.research.google.com/assets/colab-badge.svg\" alt=\"Open In Colab\"/></a>"
      ]
    },
    {
      "cell_type": "code",
      "execution_count": 4,
      "metadata": {
        "colab": {
          "base_uri": "https://localhost:8080/"
        },
        "collapsed": true,
        "id": "daPFnZaI9QVQ",
        "outputId": "c9fd6a9b-6208-4504-b55e-bb6c5f757ada"
      },
      "outputs": [
        {
          "output_type": "stream",
          "name": "stdout",
          "text": [
            "Welcome to Rock, Paper, Scissors.Choose rock, paper or scissors to play (or type 'exit' to quit).paper\n",
            "The computer chose: scissors\n",
            "The computer wins!\n",
            "Welcome to Rock, Paper, Scissors.Choose rock, paper or scissors to play (or type 'exit' to quit).rock\n",
            "The computer chose: paper\n",
            "The computer wins!\n",
            "Welcome to Rock, Paper, Scissors.Choose rock, paper or scissors to play (or type 'exit' to quit).scissors\n",
            "The computer chose: rock\n",
            "The computer wins!\n",
            "Welcome to Rock, Paper, Scissors.Choose rock, paper or scissors to play (or type 'exit' to quit).paper\n",
            "The computer chose: paper\n",
            "It's a tie!\n",
            "Welcome to Rock, Paper, Scissors.Choose rock, paper or scissors to play (or type 'exit' to quit).rock\n",
            "The computer chose: scissors\n",
            "You win!\n",
            "Welcome to Rock, Paper, Scissors.Choose rock, paper or scissors to play (or type 'exit' to quit).scissors\n",
            "The computer chose: scissors\n",
            "It's a tie!\n",
            "Welcome to Rock, Paper, Scissors.Choose rock, paper or scissors to play (or type 'exit' to quit).githib\n",
            "Sorry.Not an option.Try again!\n",
            "Welcome to Rock, Paper, Scissors.Choose rock, paper or scissors to play (or type 'exit' to quit).exit\n",
            "Thanks for playing Rock, Paper,  Scissors!\n"
          ]
        }
      ],
      "source": [
        "import random\n",
        "\n",
        "# Step 1: Define the choices\n",
        "choices = [\"rock\", \"paper\", \"scissors\"]\n",
        "\n",
        "# Step 2: Start the game loop\n",
        "while True:\n",
        "    # Step 3: Ask the player for their choice\n",
        "    player = input(\"Welcome to Rock, Paper, Scissors.Choose rock, paper or scissors to play (or type 'exit' to quit).\").lower()\n",
        "\n",
        "    # Step 4: Exit the game if player wants to\n",
        "    if player == \"exit\":\n",
        "        print(\"Thanks for playing Rock, Paper,  Scissors!\")\n",
        "        break\n",
        "\n",
        "    # Step 5: Check if the player's choice is valid\n",
        "    if player not in choices:\n",
        "        print(\"Sorry.Not an option.Try again!\")\n",
        "        continue\n",
        "\n",
        "    # Step 6: Let the computer make a random choice\n",
        "    computer = random.choice(choices)\n",
        "    print(f\"The computer chose: {computer}\")\n",
        "\n",
        "    # Step 7: Decide who wins\n",
        "    if player == computer:\n",
        "        print(\"It's a tie!\")\n",
        "    elif (player == \"rock\" and computer == \"scissors\") or \\\n",
        "         (player == \"paper\" and computer == \"rock\") or \\\n",
        "         (player == \"scissors\" and computer == \"paper\"):\n",
        "        print(\"You win!\")\n",
        "    else:\n",
        "        print(\"The computer wins!\")\n"
      ]
    }
  ]
}